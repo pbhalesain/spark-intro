{
 "cells": [
  {
   "cell_type": "code",
   "execution_count": 1,
   "metadata": {
    "collapsed": false
   },
   "outputs": [
    {
     "ename": "SyntaxError",
     "evalue": "invalid syntax (<ipython-input-1-649996e38477>, line 6)",
     "output_type": "error",
     "traceback": [
      "\u001b[1;36m  File \u001b[1;32m\"<ipython-input-1-649996e38477>\"\u001b[1;36m, line \u001b[1;32m6\u001b[0m\n\u001b[1;33m    ^(\\S+) (\\S+) (\\S+) \\[([\\w:/]+\\s[+\\-]\\d{4})\\]\u001b[0m\n\u001b[1;37m    ^\u001b[0m\n\u001b[1;31mSyntaxError\u001b[0m\u001b[1;31m:\u001b[0m invalid syntax\n"
     ]
    }
   ],
   "source": [
    "import re\n",
    "import datetime\n",
    "\n",
    "from pyspark.sql import Row\n",
    "string = '\"GET /shuttle/missions/sts-68/news/sts-68-mcc-05.txt HTTP/1.0\"'\n",
    "^(\\S+) (\\S+) (\\S+) \\[([\\w:/]+\\s[+\\-]\\d{4})\\] "
   ]
  },
  {
   "cell_type": "code",
   "execution_count": 7,
   "metadata": {
    "collapsed": false
   },
   "outputs": [
    {
     "name": "stdout",
     "output_type": "stream",
     "text": [
      "2015-06-14\n",
      "14\n"
     ]
    }
   ],
   "source": [
    "import datetime\n",
    "d = datetime.date.today()\n",
    "print d\n",
    "print d.day"
   ]
  },
  {
   "cell_type": "code",
   "execution_count": null,
   "metadata": {
    "collapsed": true
   },
   "outputs": [],
   "source": [
    "dayToHostPairTuple = access_logs.map(lambda log : (log.date_time.day, log.host))\n",
    "dayGroupedHosts = dayToHostPairTuple.distint()\n",
    "dayHostCount = dayGroupedHosts.map(lambda x : (x[0], len(x[1])))\n",
    "print dayHostCount.count()\n",
    "#dayHostCount = dayGroupedHosts.<FILL IN>\n",
    "dailyHosts = dayHostCount\n",
    "print dailyHosts.count()\n",
    "dailyHostsList = dailyHosts.take(30)\n",
    "print dailyHostsList\n",
    "\n",
    "dayAndHostTuple = access_logs.map(lambda log : (log.date_time.day, log.host))\n",
    "\n",
    "groupedByDay = dayAndHostTuple.groupByKey()\n",
    "\n",
    "sortedByDay = groupedByDay.sortByKey()\n",
    "\n",
    "\n",
    "avgDailyReqPerHost = (sortedByDay.map(lambda x : (x[0], len(x[1])/len(set(x[1])))))\n",
    "\n",
    "avgDailyReqPerHostList = avgDailyReqPerHost.take(30)\n",
    "print 'Average number of daily requests per Hosts is %s' % avgDailyReqPerHostList"
   ]
  },
  {
   "cell_type": "code",
   "execution_count": null,
   "metadata": {
    "collapsed": true
   },
   "outputs": [],
   "source": [
    "errDateCountPairTuple = badRecords.map(lambda log : (log.date_time.day, 1))\n",
    "\n",
    "errDateSum = errDateCountPairTuple.reduceByKey(lambda x, y : x+y)\n",
    "\n",
    "errDateSorted = errDateSum.sortByKey().collect()\n",
    "\n",
    "errByDate = errDateSorted.cache()"
   ]
  }
 ],
 "metadata": {
  "kernelspec": {
   "display_name": "Python 2",
   "language": "python",
   "name": "python2"
  },
  "language_info": {
   "codemirror_mode": {
    "name": "ipython",
    "version": 2
   },
   "file_extension": ".py",
   "mimetype": "text/x-python",
   "name": "python",
   "nbconvert_exporter": "python",
   "pygments_lexer": "ipython2",
   "version": "2.7.6"
  }
 },
 "nbformat": 4,
 "nbformat_minor": 0
}
